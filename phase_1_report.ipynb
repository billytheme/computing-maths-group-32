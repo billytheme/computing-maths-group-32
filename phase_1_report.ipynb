{
 "cells": [
  {
   "cell_type": "code",
   "execution_count": null,
   "source": [],
   "outputs": [],
   "metadata": {}
  }
 ],
 "metadata": {
  "orig_nbformat": 4,
  "language_info": {
   "name": "python",
   "version": "3.8.8"
  },
  "kernelspec": {
   "name": "python3",
   "display_name": "Python 3.8.8 64-bit ('.venv': venv)"
  },
  "interpreter": {
   "hash": "6cdd38d67bc207fbec6d10114a731154e20731293703f061e2a880407f18f94e"
  }
 },
 "nbformat": 4,
 "nbformat_minor": 2
}