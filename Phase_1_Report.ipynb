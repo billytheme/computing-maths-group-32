{
 "cells": [
  {
   "cell_type": "markdown",
   "metadata": {
    "id": "2uF4x7h7lIay"
   },
   "source": [
    "# Predicting the value of a diamond"
   ]
  },
  {
   "cell_type": "markdown",
   "source": [
    "### Group 32:\n",
    "James McClure: s3898327\n",
    "Mitchell Reid: s3901557"
   ],
   "metadata": {}
  },
  {
   "cell_type": "markdown",
   "source": [
    "## Table of Contents"
   ],
   "metadata": {
    "id": "yEe0G-p-N6Hy"
   },
   "source": [
    "## Table of Contents"
   ]
  },
  {
   "cell_type": "markdown",
   "metadata": {
    "id": "Zxq5EDkeN-PT"
   },
   "source": [
    "- [Introduction](#Introduction)\n",
    "  - [Dataset Source](#Dataset-Source)\n",
    "  - [Dataset Details](#Dataset-Details)\n",
    "  - [Dataset Features](#Dataset-Features)\n",
    "  - [Target Feature](#Target-Feature)\n",
    "- [Goals and Objectives](#Goals-and-Objectives)\n",
    "- [Data Cleaning and Preprocessing](#clean-process)\n",
    "  - [Data Retrieval](#retrieval)\n",
    "  - [Data Cleaning](#cleaning)\n",
    "  - [Random Sampling](#sampling)\n"
   ]
  },
  {
   "cell_type": "markdown",
   "metadata": {
    "id": "6BAZCDq0F4C6"
   },
   "source": [
    "## Introduction <a id=Introduction></a>\n",
    "### Dataset Source <a id=Dataset-Source></a>\n",
    "The Diamonds dataset was sourced from the dataset collection at from the [RMIT Mathematics of computing library](https://github.com/vaksakalli/datasets/), where it was in turn collected from the ggplot2 R library. It also exists on the [Kaggle database](https://www.kaggle.com/shivam2503/diamonds), however whether it was sourced here or mirrored from the ggplot2 library is unknown. The Kaggle source contains useful clarifications about the exact meaning of each feature, which we have drawn upon for this analysis. The dataset contains the sale prices of diamonds, and a number of features for each diamond, such as carat, clarity, cut, colour, and size\n",
    "\n",
    "### Dataset Details <a id=Dataset-Details></a>\n",
    "The dataset is about the details of various diamonds that have been sold on the market, including details about their sale price, and factors that may affect the price, such as cut, colour, size, measured in the industry standard metrics of depth and table, clarity and carat. It also specifies the diamond’s dimensions as measured in x, y, z. These features contain all the usual metrics used by the professional world to determine a diamond’s worth, so it should be sufficient for the modelling of it as a regression problem.\n",
    "\n",
    "This dataset has a total of 10 features with 53940 observations. \n"
   ]
  },
  {
   "cell_type": "markdown",
   "metadata": {
    "id": "-Cin-dZTGwsK"
   },
   "source": [
    "### Dataset Features <a id=Dataset-Features></a>\n",
    "The features of our dataset are described in the following table, as well as using two explanatory diagrams taken from [Brilliance](https://www.brilliance.com/education/diamonds/depth-table) to explain depth and table."
   ]
  },
  {
   "cell_type": "markdown",
   "metadata": {
    "id": "dOQddVIYvdux"
   },
   "source": [
    "Feature name | Data Type | Units | Description\n",
    "-------------|-----------|-------|------------\n",
    "price|Numeric|US Dollars| The price the diamond sold for in US dollars\n",
    "carat|Numeric|Carat|The weight of the diamond in carats. One carat is equivalent to 200mg\n",
    "cut|Ordinal Categorical|NA|The cut quality of the diamond. Described in increasing order as Fair, Good, Very Good, Premium, Ideal\n",
    "color|Ordinal Categorical|NA|The color of the diamond, with D being the best and J being the worst\n",
    "clarity|Ordinal Categorical|NA|The severity of natural flaws within the diamond. Described in increasing order as I1, SI2, SI1, VS2, VS1, VVS2, VVS1, IF\n",
    "x|Numeric|Millimetres|The x length in millimetres\n",
    "y|Numeric|Millimetres|The y length in millimetres\n",
    "z|Numeric|Millimetres|The y length in millimetres\n",
    "depth|Numeric|Percentage|The ratio between the z dimension and the average of x and y. Calculated as z / mean(x, y). See attached image\n",
    "table|Numeric|Percentage| The ratio between the top of the diamond and the average of x and y. Calculated as top / mean(x, y). See attached image"
   ]
  },
  {
   "cell_type": "markdown",
   "metadata": {
    "id": "S1kLJit_FG_P"
   },
   "source": [
    " #### Table Explanatory diagram <a id=Table-Explanatory-diagram></a>\n",
    " ![Table Illustration](https://www.brilliance.com/front/img/diamond_table_percentage_0.67254899.jpg)\n",
    "\n",
    "  #### Depth Explanatory diagram <a id=Depth-Explanatory-diagram></a>\n",
    " ![Depth Illustration](https://www.brilliance.com/front/img/what_is_depth_percentage.7860a14c.png)"
   ]
  },
  {
   "cell_type": "markdown",
   "metadata": {
    "id": "yVY0gVPEHFiv"
   },
   "source": [
    "### Target Feature <a id=Target-Feature></a>\n",
    "For this project, the target feature in this dataset will be the diamond price in US dollars. Therefore, we aim to predict the price of diamonds based on the explanatory variables"
   ]
  },
  {
   "cell_type": "markdown",
   "metadata": {
    "id": "_eE-tz9wHZXy"
   },
   "source": [
    "## Goals and Objectives <a id=Goals-and-Objectives></a>\n",
    "The diamond market is very competitive, with large companies exchanging vast amounts in capital and diamonds. Therefore, a model which could accurately predict a diamond's price could have uses for both suppliers and buyers: \n",
    "\n",
    "For the suppliers, the ability to accurately predict the price of a diamond before sale would give them the ability to better predict their cashflow, improving their ability to do business. \n",
    "\n",
    "For buyers, such a model would allow them to ensure they are not overpaying for diamonds, allowing them to be more confident in their purchases.\n",
    "\n",
    "Therefore, the aim for this project is to produce a model that can accurately predict the price of a diamond based on the publicly available metrics for classifying diamonds.\n",
    "\n",
    "We also at this point make the assumption that the prices of all diamonds within this dataset are independent. This may not be a realistic assumption, since professionals tend to use price relative to previous, similar diamonds as a measure of worth, but doing so allows us to use classical predictive models such as multiple linear regression."
   ]
  },
  {
   "cell_type": "markdown",
   "metadata": {
    "colab": {
     "base_uri": "https://localhost:8080/",
     "height": 165
    },
    "id": "OkTghiAkkgfb",
    "outputId": "8070e954-3125-4272-bf3c-18373508e262"
   },
   "source": [
    "## Data Cleaning and Preprocessing <a id=clean-process></a>\n",
    "In this section, we go through the data cleaning and preprocessing steps taken to prepare the data in this project."
   ]
  },
  {
   "cell_type": "markdown",
   "metadata": {
    "id": "AJkVjTmDkhZg"
   },
   "source": [
    "### Data Retrieval <a id=retrieval></a>\n",
    "- We load the modules required for this report.\n",
    "- We read in the dataset from diamonds.csv.\n",
    "- We display 10 randomly sampled rows from the report to get an idea of what our data looks like."
   ]
  },
  {
   "cell_type": "code",
   "execution_count": 1,
   "metadata": {},
   "outputs": [
    {
     "data": {
      "text/html": [
       "<div>\n",
       "<style scoped>\n",
       "    .dataframe tbody tr th:only-of-type {\n",
       "        vertical-align: middle;\n",
       "    }\n",
       "\n",
       "    .dataframe tbody tr th {\n",
       "        vertical-align: top;\n",
       "    }\n",
       "\n",
       "    .dataframe thead th {\n",
       "        text-align: right;\n",
       "    }\n",
       "</style>\n",
       "<table border=\"1\" class=\"dataframe\">\n",
       "  <thead>\n",
       "    <tr style=\"text-align: right;\">\n",
       "      <th></th>\n",
       "      <th>carat</th>\n",
       "      <th>cut</th>\n",
       "      <th>color</th>\n",
       "      <th>clarity</th>\n",
       "      <th>depth</th>\n",
       "      <th>table</th>\n",
       "      <th>x</th>\n",
       "      <th>y</th>\n",
       "      <th>z</th>\n",
       "      <th>price</th>\n",
       "    </tr>\n",
       "  </thead>\n",
       "  <tbody>\n",
       "    <tr>\n",
       "      <th>36187</th>\n",
       "      <td>0.41</td>\n",
       "      <td>Very Good</td>\n",
       "      <td>F</td>\n",
       "      <td>VS1</td>\n",
       "      <td>63.0</td>\n",
       "      <td>57.0</td>\n",
       "      <td>4.66</td>\n",
       "      <td>4.70</td>\n",
       "      <td>2.95</td>\n",
       "      <td>931</td>\n",
       "    </tr>\n",
       "    <tr>\n",
       "      <th>51096</th>\n",
       "      <td>0.71</td>\n",
       "      <td>Very Good</td>\n",
       "      <td>G</td>\n",
       "      <td>VS2</td>\n",
       "      <td>62.3</td>\n",
       "      <td>63.0</td>\n",
       "      <td>5.70</td>\n",
       "      <td>5.64</td>\n",
       "      <td>3.53</td>\n",
       "      <td>2335</td>\n",
       "    </tr>\n",
       "    <tr>\n",
       "      <th>2414</th>\n",
       "      <td>0.87</td>\n",
       "      <td>Very Good</td>\n",
       "      <td>H</td>\n",
       "      <td>SI1</td>\n",
       "      <td>62.2</td>\n",
       "      <td>57.0</td>\n",
       "      <td>6.05</td>\n",
       "      <td>6.11</td>\n",
       "      <td>3.78</td>\n",
       "      <td>3180</td>\n",
       "    </tr>\n",
       "    <tr>\n",
       "      <th>2136</th>\n",
       "      <td>0.71</td>\n",
       "      <td>Ideal</td>\n",
       "      <td>G</td>\n",
       "      <td>VS1</td>\n",
       "      <td>61.8</td>\n",
       "      <td>56.1</td>\n",
       "      <td>5.72</td>\n",
       "      <td>5.74</td>\n",
       "      <td>3.54</td>\n",
       "      <td>3123</td>\n",
       "    </tr>\n",
       "    <tr>\n",
       "      <th>47156</th>\n",
       "      <td>0.45</td>\n",
       "      <td>Ideal</td>\n",
       "      <td>F</td>\n",
       "      <td>VVS1</td>\n",
       "      <td>61.8</td>\n",
       "      <td>55.0</td>\n",
       "      <td>4.92</td>\n",
       "      <td>4.95</td>\n",
       "      <td>3.05</td>\n",
       "      <td>1833</td>\n",
       "    </tr>\n",
       "    <tr>\n",
       "      <th>11719</th>\n",
       "      <td>0.34</td>\n",
       "      <td>Ideal</td>\n",
       "      <td>E</td>\n",
       "      <td>SI1</td>\n",
       "      <td>61.4</td>\n",
       "      <td>54.0</td>\n",
       "      <td>4.50</td>\n",
       "      <td>4.53</td>\n",
       "      <td>2.77</td>\n",
       "      <td>596</td>\n",
       "    </tr>\n",
       "    <tr>\n",
       "      <th>51509</th>\n",
       "      <td>0.74</td>\n",
       "      <td>Premium</td>\n",
       "      <td>F</td>\n",
       "      <td>SI2</td>\n",
       "      <td>59.2</td>\n",
       "      <td>60.0</td>\n",
       "      <td>5.96</td>\n",
       "      <td>5.90</td>\n",
       "      <td>3.51</td>\n",
       "      <td>2383</td>\n",
       "    </tr>\n",
       "    <tr>\n",
       "      <th>27566</th>\n",
       "      <td>2.40</td>\n",
       "      <td>Ideal</td>\n",
       "      <td>H</td>\n",
       "      <td>SI2</td>\n",
       "      <td>62.0</td>\n",
       "      <td>55.0</td>\n",
       "      <td>8.57</td>\n",
       "      <td>8.60</td>\n",
       "      <td>5.32</td>\n",
       "      <td>18374</td>\n",
       "    </tr>\n",
       "    <tr>\n",
       "      <th>33746</th>\n",
       "      <td>0.31</td>\n",
       "      <td>Ideal</td>\n",
       "      <td>F</td>\n",
       "      <td>VVS1</td>\n",
       "      <td>62.0</td>\n",
       "      <td>55.0</td>\n",
       "      <td>4.34</td>\n",
       "      <td>4.37</td>\n",
       "      <td>2.70</td>\n",
       "      <td>840</td>\n",
       "    </tr>\n",
       "    <tr>\n",
       "      <th>35068</th>\n",
       "      <td>0.32</td>\n",
       "      <td>Very Good</td>\n",
       "      <td>F</td>\n",
       "      <td>VVS1</td>\n",
       "      <td>61.5</td>\n",
       "      <td>56.0</td>\n",
       "      <td>4.38</td>\n",
       "      <td>4.40</td>\n",
       "      <td>2.70</td>\n",
       "      <td>886</td>\n",
       "    </tr>\n",
       "  </tbody>\n",
       "</table>\n",
       "</div>"
      ],
      "text/plain": [
       "       carat        cut color clarity  depth  table     x     y     z  price\n",
       "36187   0.41  Very Good     F     VS1   63.0   57.0  4.66  4.70  2.95    931\n",
       "51096   0.71  Very Good     G     VS2   62.3   63.0  5.70  5.64  3.53   2335\n",
       "2414    0.87  Very Good     H     SI1   62.2   57.0  6.05  6.11  3.78   3180\n",
       "2136    0.71      Ideal     G     VS1   61.8   56.1  5.72  5.74  3.54   3123\n",
       "47156   0.45      Ideal     F    VVS1   61.8   55.0  4.92  4.95  3.05   1833\n",
       "11719   0.34      Ideal     E     SI1   61.4   54.0  4.50  4.53  2.77    596\n",
       "51509   0.74    Premium     F     SI2   59.2   60.0  5.96  5.90  3.51   2383\n",
       "27566   2.40      Ideal     H     SI2   62.0   55.0  8.57  8.60  5.32  18374\n",
       "33746   0.31      Ideal     F    VVS1   62.0   55.0  4.34  4.37  2.70    840\n",
       "35068   0.32  Very Good     F    VVS1   61.5   56.0  4.38  4.40  2.70    886"
      ]
     },
     "execution_count": 1,
     "metadata": {},
     "output_type": "execute_result"
    }
   ],
   "source": [
    "###Loading modules###\n",
    "import numpy as np\n",
    "import pandas as pd\n",
    "\n",
    "#used to get the csv from the repository\n",
    "import requests\n",
    "\n",
    "#used to generate tables to check data\n",
    "from IPython.display import display, HTML\n",
    "\n",
    "###Reading dataset as a dataframe###\n",
    "df_name = 'diamonds.csv'\n",
    "diamonds_df = pd.read_csv(df_name)\n",
    "\n",
    "###Displaying 10 random rows###\n",
    "diamonds_df.sample(10, random_state=405)"
   ]
  },
  {
   "cell_type": "markdown",
   "metadata": {},
   "source": [
    "### Data Cleaning <a id=\"cleaning\"></a>\n",
    "- Drop irrelevant columns from our dataset.\n",
    "- Verify that all columns are labelled properly.\n",
    "- Check for missing values and remove rows that have missing values.\n",
    "- Random sampling of 5k rows?\n",
    "\n",
    "First, we will display all column names too see whether any columns need to be dropped."
   ]
  },
  {
   "cell_type": "code",
   "execution_count": 2,
   "metadata": {},
   "outputs": [
    {
     "data": {
      "text/plain": [
       "Index(['carat', 'cut', 'color', 'clarity', 'depth', 'table', 'x', 'y', 'z',\n",
       "       'price'],\n",
       "      dtype='object')"
      ]
     },
     "execution_count": 2,
     "metadata": {},
     "output_type": "execute_result"
    }
   ],
   "source": [
    "#displays all columns\n",
    "diamonds_df.columns"
   ]
  },
  {
   "cell_type": "markdown",
   "metadata": {},
   "source": [
    "`x`, `y` and `z` represent the lengths of each dimension of the diamond which is redundant as `depth` and `table` are provided and are the industry standard way of measuring diamonds size. Because of this we will drop `x`, `y` and `z`."
   ]
  },
  {
   "cell_type": "code",
   "execution_count": 3,
   "metadata": {},
   "outputs": [
    {
     "data": {
      "text/html": [
       "<div>\n",
       "<style scoped>\n",
       "    .dataframe tbody tr th:only-of-type {\n",
       "        vertical-align: middle;\n",
       "    }\n",
       "\n",
       "    .dataframe tbody tr th {\n",
       "        vertical-align: top;\n",
       "    }\n",
       "\n",
       "    .dataframe thead th {\n",
       "        text-align: right;\n",
       "    }\n",
       "</style>\n",
       "<table border=\"1\" class=\"dataframe\">\n",
       "  <thead>\n",
       "    <tr style=\"text-align: right;\">\n",
       "      <th></th>\n",
       "      <th>carat</th>\n",
       "      <th>cut</th>\n",
       "      <th>color</th>\n",
       "      <th>clarity</th>\n",
       "      <th>depth</th>\n",
       "      <th>table</th>\n",
       "      <th>price</th>\n",
       "    </tr>\n",
       "  </thead>\n",
       "  <tbody>\n",
       "    <tr>\n",
       "      <th>36187</th>\n",
       "      <td>0.41</td>\n",
       "      <td>Very Good</td>\n",
       "      <td>F</td>\n",
       "      <td>VS1</td>\n",
       "      <td>63.0</td>\n",
       "      <td>57.0</td>\n",
       "      <td>931</td>\n",
       "    </tr>\n",
       "    <tr>\n",
       "      <th>51096</th>\n",
       "      <td>0.71</td>\n",
       "      <td>Very Good</td>\n",
       "      <td>G</td>\n",
       "      <td>VS2</td>\n",
       "      <td>62.3</td>\n",
       "      <td>63.0</td>\n",
       "      <td>2335</td>\n",
       "    </tr>\n",
       "    <tr>\n",
       "      <th>2414</th>\n",
       "      <td>0.87</td>\n",
       "      <td>Very Good</td>\n",
       "      <td>H</td>\n",
       "      <td>SI1</td>\n",
       "      <td>62.2</td>\n",
       "      <td>57.0</td>\n",
       "      <td>3180</td>\n",
       "    </tr>\n",
       "    <tr>\n",
       "      <th>2136</th>\n",
       "      <td>0.71</td>\n",
       "      <td>Ideal</td>\n",
       "      <td>G</td>\n",
       "      <td>VS1</td>\n",
       "      <td>61.8</td>\n",
       "      <td>56.1</td>\n",
       "      <td>3123</td>\n",
       "    </tr>\n",
       "    <tr>\n",
       "      <th>47156</th>\n",
       "      <td>0.45</td>\n",
       "      <td>Ideal</td>\n",
       "      <td>F</td>\n",
       "      <td>VVS1</td>\n",
       "      <td>61.8</td>\n",
       "      <td>55.0</td>\n",
       "      <td>1833</td>\n",
       "    </tr>\n",
       "    <tr>\n",
       "      <th>11719</th>\n",
       "      <td>0.34</td>\n",
       "      <td>Ideal</td>\n",
       "      <td>E</td>\n",
       "      <td>SI1</td>\n",
       "      <td>61.4</td>\n",
       "      <td>54.0</td>\n",
       "      <td>596</td>\n",
       "    </tr>\n",
       "    <tr>\n",
       "      <th>51509</th>\n",
       "      <td>0.74</td>\n",
       "      <td>Premium</td>\n",
       "      <td>F</td>\n",
       "      <td>SI2</td>\n",
       "      <td>59.2</td>\n",
       "      <td>60.0</td>\n",
       "      <td>2383</td>\n",
       "    </tr>\n",
       "    <tr>\n",
       "      <th>27566</th>\n",
       "      <td>2.40</td>\n",
       "      <td>Ideal</td>\n",
       "      <td>H</td>\n",
       "      <td>SI2</td>\n",
       "      <td>62.0</td>\n",
       "      <td>55.0</td>\n",
       "      <td>18374</td>\n",
       "    </tr>\n",
       "    <tr>\n",
       "      <th>33746</th>\n",
       "      <td>0.31</td>\n",
       "      <td>Ideal</td>\n",
       "      <td>F</td>\n",
       "      <td>VVS1</td>\n",
       "      <td>62.0</td>\n",
       "      <td>55.0</td>\n",
       "      <td>840</td>\n",
       "    </tr>\n",
       "    <tr>\n",
       "      <th>35068</th>\n",
       "      <td>0.32</td>\n",
       "      <td>Very Good</td>\n",
       "      <td>F</td>\n",
       "      <td>VVS1</td>\n",
       "      <td>61.5</td>\n",
       "      <td>56.0</td>\n",
       "      <td>886</td>\n",
       "    </tr>\n",
       "  </tbody>\n",
       "</table>\n",
       "</div>"
      ],
      "text/plain": [
       "       carat        cut color clarity  depth  table  price\n",
       "36187   0.41  Very Good     F     VS1   63.0   57.0    931\n",
       "51096   0.71  Very Good     G     VS2   62.3   63.0   2335\n",
       "2414    0.87  Very Good     H     SI1   62.2   57.0   3180\n",
       "2136    0.71      Ideal     G     VS1   61.8   56.1   3123\n",
       "47156   0.45      Ideal     F    VVS1   61.8   55.0   1833\n",
       "11719   0.34      Ideal     E     SI1   61.4   54.0    596\n",
       "51509   0.74    Premium     F     SI2   59.2   60.0   2383\n",
       "27566   2.40      Ideal     H     SI2   62.0   55.0  18374\n",
       "33746   0.31      Ideal     F    VVS1   62.0   55.0    840\n",
       "35068   0.32  Very Good     F    VVS1   61.5   56.0    886"
      ]
     },
     "execution_count": 3,
     "metadata": {},
     "output_type": "execute_result"
    }
   ],
   "source": [
    "#Dropping x y z columns\n",
    "diamonds_df = diamonds_df.drop(columns=['x', 'y', 'z'])\n",
    "#Display remaining columns\n",
    "diamonds_df.sample(10, random_state = 405)"
   ]
  },
  {
   "cell_type": "markdown",
   "metadata": {},
   "source": [
    "Fortunately, all our column names are already correct we can now check to make sure all of our columns data types are the types we intended."
   ]
  },
  {
   "cell_type": "code",
   "execution_count": 4,
   "metadata": {},
   "outputs": [
    {
     "name": "stdout",
     "output_type": "stream",
     "text": [
      "Shape of the dataset = (53940, 7) \n",
      "\n",
      "Data types are below where 'object' indicates a string type: \n",
      "carat      float64\n",
      "cut         object\n",
      "color       object\n",
      "clarity     object\n",
      "depth      float64\n",
      "table      float64\n",
      "price        int64\n",
      "dtype: object\n"
     ]
    }
   ],
   "source": [
    "# Check for data types\n",
    "print(f\"Shape of the dataset = {diamonds_df.shape} \\n\")\n",
    "print(f\"Data types are below where 'object' indicates a string type: \")\n",
    "print(diamonds_df.dtypes)"
   ]
  },
  {
   "cell_type": "markdown",
   "metadata": {},
   "source": [
    "Next, we will check all our categorical columns for their unique values and ensure that all entries are valid."
   ]
  },
  {
   "cell_type": "code",
   "execution_count": 5,
   "metadata": {},
   "outputs": [
    {
     "name": "stdout",
     "output_type": "stream",
     "text": [
      "All unique vals in cut\n",
      "['Ideal' 'Premium' 'Good' 'Very Good' 'Fair']\n",
      "\n",
      "All unique vals in color\n",
      "['E' 'I' 'J' 'H' 'F' 'G' 'D']\n",
      "\n",
      "All unique vals in clarity\n",
      "['SI2' 'SI1' 'VS1' 'VS2' 'VVS2' 'VVS1' 'I1' 'IF']\n",
      "\n"
     ]
    }
   ],
   "source": [
    "#all cols that contain catergorical data (object = string)\n",
    "catCols = diamonds_df.columns[diamonds_df.dtypes==object].tolist()\n",
    "\n",
    "for col in catCols:\n",
    "    print(f\"All unique vals in {col}\")\n",
    "    print(f\"{diamonds_df[col].unique()}\\n\")"
   ]
  },
  {
   "cell_type": "markdown",
   "metadata": {},
   "source": [
    "All the unique values are valid and so we can move on.\n",
    "\n",
    "Next, we will check for outliers in our numerical data by generating a summary of our statistics. From looking at this we can determine that there are no outliers present that we need to act on."
   ]
  },
  {
   "cell_type": "code",
   "execution_count": 6,
   "metadata": {},
   "outputs": [
    {
     "data": {
      "text/html": [
       "<b>Table: Summary of numerical features</b>"
      ],
      "text/plain": [
       "<IPython.core.display.HTML object>"
      ]
     },
     "metadata": {},
     "output_type": "display_data"
    },
    {
     "data": {
      "text/html": [
       "<div>\n",
       "<style scoped>\n",
       "    .dataframe tbody tr th:only-of-type {\n",
       "        vertical-align: middle;\n",
       "    }\n",
       "\n",
       "    .dataframe tbody tr th {\n",
       "        vertical-align: top;\n",
       "    }\n",
       "\n",
       "    .dataframe thead th {\n",
       "        text-align: right;\n",
       "    }\n",
       "</style>\n",
       "<table border=\"1\" class=\"dataframe\">\n",
       "  <thead>\n",
       "    <tr style=\"text-align: right;\">\n",
       "      <th></th>\n",
       "      <th>count</th>\n",
       "      <th>mean</th>\n",
       "      <th>std</th>\n",
       "      <th>min</th>\n",
       "      <th>25%</th>\n",
       "      <th>50%</th>\n",
       "      <th>75%</th>\n",
       "      <th>max</th>\n",
       "    </tr>\n",
       "  </thead>\n",
       "  <tbody>\n",
       "    <tr>\n",
       "      <th>carat</th>\n",
       "      <td>53940.0</td>\n",
       "      <td>0.797940</td>\n",
       "      <td>0.474011</td>\n",
       "      <td>0.2</td>\n",
       "      <td>0.4</td>\n",
       "      <td>0.7</td>\n",
       "      <td>1.04</td>\n",
       "      <td>5.01</td>\n",
       "    </tr>\n",
       "    <tr>\n",
       "      <th>depth</th>\n",
       "      <td>53940.0</td>\n",
       "      <td>61.749405</td>\n",
       "      <td>1.432621</td>\n",
       "      <td>43.0</td>\n",
       "      <td>61.0</td>\n",
       "      <td>61.8</td>\n",
       "      <td>62.50</td>\n",
       "      <td>79.00</td>\n",
       "    </tr>\n",
       "    <tr>\n",
       "      <th>table</th>\n",
       "      <td>53940.0</td>\n",
       "      <td>57.457184</td>\n",
       "      <td>2.234491</td>\n",
       "      <td>43.0</td>\n",
       "      <td>56.0</td>\n",
       "      <td>57.0</td>\n",
       "      <td>59.00</td>\n",
       "      <td>95.00</td>\n",
       "    </tr>\n",
       "    <tr>\n",
       "      <th>price</th>\n",
       "      <td>53940.0</td>\n",
       "      <td>3932.799722</td>\n",
       "      <td>3989.439738</td>\n",
       "      <td>326.0</td>\n",
       "      <td>950.0</td>\n",
       "      <td>2401.0</td>\n",
       "      <td>5324.25</td>\n",
       "      <td>18823.00</td>\n",
       "    </tr>\n",
       "  </tbody>\n",
       "</table>\n",
       "</div>"
      ],
      "text/plain": [
       "         count         mean          std    min    25%     50%      75%  \\\n",
       "carat  53940.0     0.797940     0.474011    0.2    0.4     0.7     1.04   \n",
       "depth  53940.0    61.749405     1.432621   43.0   61.0    61.8    62.50   \n",
       "table  53940.0    57.457184     2.234491   43.0   56.0    57.0    59.00   \n",
       "price  53940.0  3932.799722  3989.439738  326.0  950.0  2401.0  5324.25   \n",
       "\n",
       "            max  \n",
       "carat      5.01  \n",
       "depth     79.00  \n",
       "table     95.00  \n",
       "price  18823.00  "
      ]
     },
     "execution_count": 6,
     "metadata": {},
     "output_type": "execute_result"
    }
   ],
   "source": [
    "#displays mean, standard dev, min, max, 25q, 50q and 75q\n",
    "display(HTML('<b>Table: Summary of numerical features</b>'))\n",
    "diamonds_df.describe(include=['int64','float64']).T"
   ]
  },
  {
   "cell_type": "markdown",
   "metadata": {},
   "source": [
    "Missing values are checked by displaying the number of missing values in every column. We observe that fortunately there are no missing values in any column so we can continue."
   ]
  },
  {
   "cell_type": "code",
   "execution_count": 7,
   "metadata": {},
   "outputs": [
    {
     "name": "stdout",
     "output_type": "stream",
     "text": [
      "\n",
      "Column:\t   Num missing:\n",
      "carat      0\n",
      "cut        0\n",
      "color      0\n",
      "clarity    0\n",
      "depth      0\n",
      "table      0\n",
      "price      0\n",
      "dtype: int64\n"
     ]
    }
   ],
   "source": [
    "#get num of missing values in each column\n",
    "print(f\"\\nColumn:\\t   Num missing:\")\n",
    "print(diamonds_df.isnull().sum())"
   ]
  },
  {
   "cell_type": "markdown",
   "metadata": {},
   "source": [
    "### Random Sampling <a id=\"sampling\"></a>\n",
    "We have 53940 clean rows so we will take a random sample of 5000 rows. Then we will display a random sample of 10 from the 5000 rows."
   ]
  },
  {
   "cell_type": "code",
   "execution_count": 8,
   "metadata": {},
   "outputs": [
    {
     "data": {
      "text/html": [
       "<div>\n",
       "<style scoped>\n",
       "    .dataframe tbody tr th:only-of-type {\n",
       "        vertical-align: middle;\n",
       "    }\n",
       "\n",
       "    .dataframe tbody tr th {\n",
       "        vertical-align: top;\n",
       "    }\n",
       "\n",
       "    .dataframe thead th {\n",
       "        text-align: right;\n",
       "    }\n",
       "</style>\n",
       "<table border=\"1\" class=\"dataframe\">\n",
       "  <thead>\n",
       "    <tr style=\"text-align: right;\">\n",
       "      <th></th>\n",
       "      <th>carat</th>\n",
       "      <th>cut</th>\n",
       "      <th>color</th>\n",
       "      <th>clarity</th>\n",
       "      <th>depth</th>\n",
       "      <th>table</th>\n",
       "      <th>price</th>\n",
       "    </tr>\n",
       "  </thead>\n",
       "  <tbody>\n",
       "    <tr>\n",
       "      <th>14074</th>\n",
       "      <td>1.03</td>\n",
       "      <td>Ideal</td>\n",
       "      <td>E</td>\n",
       "      <td>SI1</td>\n",
       "      <td>62.0</td>\n",
       "      <td>53.0</td>\n",
       "      <td>5710</td>\n",
       "    </tr>\n",
       "    <tr>\n",
       "      <th>32009</th>\n",
       "      <td>0.31</td>\n",
       "      <td>Very Good</td>\n",
       "      <td>F</td>\n",
       "      <td>VVS1</td>\n",
       "      <td>59.2</td>\n",
       "      <td>62.0</td>\n",
       "      <td>777</td>\n",
       "    </tr>\n",
       "    <tr>\n",
       "      <th>40757</th>\n",
       "      <td>0.40</td>\n",
       "      <td>Ideal</td>\n",
       "      <td>F</td>\n",
       "      <td>VVS2</td>\n",
       "      <td>62.8</td>\n",
       "      <td>56.0</td>\n",
       "      <td>1163</td>\n",
       "    </tr>\n",
       "    <tr>\n",
       "      <th>21811</th>\n",
       "      <td>1.66</td>\n",
       "      <td>Premium</td>\n",
       "      <td>J</td>\n",
       "      <td>VVS2</td>\n",
       "      <td>62.6</td>\n",
       "      <td>59.0</td>\n",
       "      <td>9882</td>\n",
       "    </tr>\n",
       "    <tr>\n",
       "      <th>32701</th>\n",
       "      <td>0.31</td>\n",
       "      <td>Ideal</td>\n",
       "      <td>F</td>\n",
       "      <td>VS2</td>\n",
       "      <td>61.6</td>\n",
       "      <td>55.0</td>\n",
       "      <td>802</td>\n",
       "    </tr>\n",
       "    <tr>\n",
       "      <th>50018</th>\n",
       "      <td>0.70</td>\n",
       "      <td>Very Good</td>\n",
       "      <td>F</td>\n",
       "      <td>SI1</td>\n",
       "      <td>59.8</td>\n",
       "      <td>60.0</td>\n",
       "      <td>2196</td>\n",
       "    </tr>\n",
       "    <tr>\n",
       "      <th>17483</th>\n",
       "      <td>1.10</td>\n",
       "      <td>Premium</td>\n",
       "      <td>G</td>\n",
       "      <td>VS2</td>\n",
       "      <td>59.4</td>\n",
       "      <td>60.0</td>\n",
       "      <td>7022</td>\n",
       "    </tr>\n",
       "    <tr>\n",
       "      <th>24064</th>\n",
       "      <td>1.70</td>\n",
       "      <td>Ideal</td>\n",
       "      <td>I</td>\n",
       "      <td>VS1</td>\n",
       "      <td>60.1</td>\n",
       "      <td>57.0</td>\n",
       "      <td>12209</td>\n",
       "    </tr>\n",
       "    <tr>\n",
       "      <th>36964</th>\n",
       "      <td>0.41</td>\n",
       "      <td>Premium</td>\n",
       "      <td>G</td>\n",
       "      <td>VS1</td>\n",
       "      <td>62.5</td>\n",
       "      <td>59.0</td>\n",
       "      <td>961</td>\n",
       "    </tr>\n",
       "    <tr>\n",
       "      <th>45110</th>\n",
       "      <td>0.54</td>\n",
       "      <td>Very Good</td>\n",
       "      <td>D</td>\n",
       "      <td>SI1</td>\n",
       "      <td>60.3</td>\n",
       "      <td>61.0</td>\n",
       "      <td>1650</td>\n",
       "    </tr>\n",
       "  </tbody>\n",
       "</table>\n",
       "</div>"
      ],
      "text/plain": [
       "       carat        cut color clarity  depth  table  price\n",
       "14074   1.03      Ideal     E     SI1   62.0   53.0   5710\n",
       "32009   0.31  Very Good     F    VVS1   59.2   62.0    777\n",
       "40757   0.40      Ideal     F    VVS2   62.8   56.0   1163\n",
       "21811   1.66    Premium     J    VVS2   62.6   59.0   9882\n",
       "32701   0.31      Ideal     F     VS2   61.6   55.0    802\n",
       "50018   0.70  Very Good     F     SI1   59.8   60.0   2196\n",
       "17483   1.10    Premium     G     VS2   59.4   60.0   7022\n",
       "24064   1.70      Ideal     I     VS1   60.1   57.0  12209\n",
       "36964   0.41    Premium     G     VS1   62.5   59.0    961\n",
       "45110   0.54  Very Good     D     SI1   60.3   61.0   1650"
      ]
     },
     "execution_count": 8,
     "metadata": {},
     "output_type": "execute_result"
    }
   ],
   "source": [
    "diamonds_df = diamonds_df.sample(5000, random_state = 405)\n",
    "diamonds_df.sample(10, random_state = 405)"
   ]
  }
 ],
 "metadata": {
  "colab": {
   "collapsed_sections": [],
   "name": "Phase 1 Report.ipynb",
   "provenance": []
  },
  "kernelspec": {
   "display_name": "Python 3",
   "language": "python",
   "name": "python3"
  },
  "language_info": {
   "codemirror_mode": {
    "name": "ipython",
    "version": 3
   },
   "file_extension": ".py",
   "mimetype": "text/x-python",
   "name": "python",
   "nbconvert_exporter": "python",
   "pygments_lexer": "ipython3",
   "version": "3.8.8"
  },
  "varInspector": {
   "cols": {
    "lenName": 16,
    "lenType": 16,
    "lenVar": 40
   },
   "kernels_config": {
    "python": {
     "delete_cmd_postfix": "",
     "delete_cmd_prefix": "del ",
     "library": "var_list.py",
     "varRefreshCmd": "print(var_dic_list())"
    },
    "r": {
     "delete_cmd_postfix": ") ",
     "delete_cmd_prefix": "rm(",
     "library": "var_list.r",
     "varRefreshCmd": "cat(var_dic_list()) "
    }
   },
   "types_to_exclude": [
    "module",
    "function",
    "builtin_function_or_method",
    "instance",
    "_Feature"
   ],
   "window_display": false
  }
 },
 "nbformat": 4,
 "nbformat_minor": 1
}
