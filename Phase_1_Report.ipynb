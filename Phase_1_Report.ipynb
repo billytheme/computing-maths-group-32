{
  "nbformat": 4,
  "nbformat_minor": 0,
  "metadata": {
    "colab": {
      "name": "Phase 1 Report.ipynb",
      "provenance": [],
      "collapsed_sections": []
    },
    "kernelspec": {
      "name": "python3",
      "display_name": "Python 3"
    },
    "language_info": {
      "name": "python"
    }
  },
  "cells": [
    {
      "cell_type": "markdown",
      "metadata": {
        "id": "2uF4x7h7lIay"
      },
      "source": [
        "# Predicting the value of a diamond"
      ]
    },
    {
      "cell_type": "markdown",
      "metadata": {
        "id": "yEe0G-p-N6Hy"
      },
      "source": [
        "##Table of Contents"
      ]
    },
    {
      "cell_type": "markdown",
      "metadata": {
        "id": "Zxq5EDkeN-PT"
      },
      "source": [
        "- [Introduction](#Introduction)\n",
        "  - [Dataset Source](#Dataset-Source)\n",
        "  - [Dataset Details](#Dataset-Details)\n",
        "  - [Dataset Features](#Dataset-Features)\n",
        "  - [Target Feature](#Target-Feature)\n",
        "- [Goals and Objectives](#Goals-and-Objectives)\n",
        "\n"
      ]
    },
    {
      "cell_type": "markdown",
      "metadata": {
        "id": "6BAZCDq0F4C6"
      },
      "source": [
        "##Introduction <a id=Introduction></a>\n",
        "###Dataset Source <a id=Dataset-Source></a>\n",
        "The Diamonds dataset was sourced from the dataset collection at from the [RMIT Mathematics of computing library](https://github.com/vaksakalli/datasets/), where it was in turn collected from the ggplot2 R library. It also exists on the [Kaggle database](https://www.kaggle.com/shivam2503/diamonds), however whether it was sourced here or mirrored from the ggplot2 library is unknown. The Kaggle source contains useful clarifications about the exact meaning of each feature, which we have drawn upon for this analysis. The dataset contains the sale prices of diamonds, and a number of features for each diamond, such as carat, clarity, cut, colour, and size\n",
        "\n",
        "###Dataset Details <a id=Dataset-Details></a>\n",
        "The dataset is about the details of various diamonds that have been sold on the market, including details about their sale price, and factors that may affect the price, such as cut, colour, size, measured in the industry standard metrics of depth and table, clarity and carat. It also specifies the diamond’s dimensions as measured in x, y, z. These features contain all the usual metrics used by the professional world to determine a diamond’s worth, so it should be sufficient for the modelling of it as a regression problem.\n",
        "\n",
        "This dataset has a total of 10 features with 53940 observations. \n"
      ]
    },
    {
      "cell_type": "markdown",
      "metadata": {
        "id": "-Cin-dZTGwsK"
      },
      "source": [
        "###Dataset Features <a id=Dataset-Features></a>\n",
        "The features of our dataset are described in the following table, as well as using two explanatory diagrams taken from [Brilliance](https://www.brilliance.com/education/diamonds/depth-table) to explain depth and table."
      ]
    },
    {
      "cell_type": "markdown",
      "metadata": {
        "id": "dOQddVIYvdux"
      },
      "source": [
        "Feature name | Data Type | Units | Description\n",
        "-------------|-----------|-------|------------\n",
        "price|Numeric|US Dollars| The price the diamond sold for in US dollars\n",
        "carat|Numeric|Carat|The weight of the diamond in carats. One carat is equivalent to 200mg\n",
        "cut|Ordinal Categorical|NA|The cut quality of the diamond. Described in increasing order as Fair, Good, Very Good, Premium, Ideal\n",
        "color|Ordinal Categorical|NA|The color of the diamond, with D being the best and J being the worst\n",
        "clarity|Ordinal Categorical|NA|The severity of natural flaws within the diamond. Described in increasing order as I1, SI2, SI1, VS2, VS1, VVS2, VVS1, IF\n",
        "x|Numeric|Millimetres|The x length in millimetres\n",
        "y|Numeric|Millimetres|The y length in millimetres\n",
        "z|Numeric|Millimetres|The y length in millimetres\n",
        "depth|Numeric|Percentage|The ratio between the z dimension and the average of x and y. Calculated as z / mean(x, y). See attached image\n",
        "table|Numeric|Percentage| The ratio between the top of the diamond and the average of x and y. Calculated as top / mean(x, y). See attached image"
      ]
    },
    {
      "cell_type": "markdown",
      "metadata": {
        "id": "S1kLJit_FG_P"
      },
      "source": [
        " #### Table Explanatory diagram <a id=Table-Explanatory-diagram></a>\n",
        " ![Table Illustration](https://www.brilliance.com/front/img/diamond_table_percentage_0.67254899.jpg)\n",
        "\n",
        "  #### Depth Explanatory diagram <a id=Depth-Explanatory-diagram></a>\n",
        " ![Depth Illustration](https://www.brilliance.com/front/img/what_is_depth_percentage.7860a14c.png)"
      ]
    },
    {
      "cell_type": "markdown",
      "metadata": {
        "id": "yVY0gVPEHFiv"
      },
      "source": [
        "###Target Feature <a id=Target-Feature></a>\n",
        "For this project, the target feature in this dataset will be the diamond price in US dollars. Therefore, we aim to predict the price of diamonds based on the explanatory variables"
      ]
    },
    {
      "cell_type": "markdown",
      "metadata": {
        "id": "_eE-tz9wHZXy"
      },
      "source": [
        "##Goals and Objectives <a id=Goals-and-Objectives></a>\n",
        "The diamond market is very competitive, with large companies exchanging vast amounts in capital and diamonds. Therefore, a model which could accurately predict a diamond's price could have uses for both suppliers and buyers: \n",
        "\n",
        "For the suppliers, the ability to accurately predict the price of a diamond before sale would give them the ability to better predict their cashflow, improving their ability to do business. \n",
        "\n",
        "For buyers, such a model would allow them to ensure they are not overpaying for diamonds, allowing them to be more confident in their purchases.\n",
        "\n",
        "Therefore, the aim for this project is to produce a model that can accurately predict the price of a diamond based on the publicly available metrics for classifying diamonds.\n",
        "\n",
        "We also at this point make the assumption that the prices of all diamonds within this dataset are independent. "
      ]
    },
    {
      "cell_type": "code",
      "metadata": {
        "id": "OkTghiAkkgfb",
        "colab": {
          "base_uri": "https://localhost:8080/",
          "height": 165
        },
        "outputId": "8070e954-3125-4272-bf3c-18373508e262"
      },
      "source": [
        "ddsfadshflsdhafklsadhfjasdfhjdasklfj;alsdkfj;asdlkfja;sdlfkjas;dlkfja;sdlfkj"
      ],
      "execution_count": null,
      "outputs": [
        {
          "output_type": "error",
          "ename": "NameError",
          "evalue": "ignored",
          "traceback": [
            "\u001b[0;31m---------------------------------------------------------------------------\u001b[0m",
            "\u001b[0;31mNameError\u001b[0m                                 Traceback (most recent call last)",
            "\u001b[0;32m<ipython-input-2-61d046737ce8>\u001b[0m in \u001b[0;36m<module>\u001b[0;34m()\u001b[0m\n\u001b[0;32m----> 1\u001b[0;31m \u001b[0mddsfadshflsdhafklsadhfjasdfhjdasklfj\u001b[0m\u001b[0;34m;\u001b[0m\u001b[0malsdkfj\u001b[0m\u001b[0;34m;\u001b[0m\u001b[0masdlkfja\u001b[0m\u001b[0;34m;\u001b[0m\u001b[0msdlfkjas\u001b[0m\u001b[0;34m;\u001b[0m\u001b[0mdlkfja\u001b[0m\u001b[0;34m;\u001b[0m\u001b[0msdlfkj\u001b[0m\u001b[0;34m\u001b[0m\u001b[0;34m\u001b[0m\u001b[0m\n\u001b[0m",
            "\u001b[0;31mNameError\u001b[0m: name 'ddsfadshflsdhafklsadhfjasdfhjdasklfj' is not defined"
          ]
        }
      ]
    },
    {
      "cell_type": "code",
      "metadata": {
        "id": "AJkVjTmDkhZg"
      },
      "source": [
        "# "
      ],
      "execution_count": null,
      "outputs": []
    }
  ]
}